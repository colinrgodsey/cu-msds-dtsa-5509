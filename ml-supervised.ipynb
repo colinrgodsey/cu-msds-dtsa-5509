{
 "cells": [
  {
   "cell_type": "markdown",
   "metadata": {},
   "source": [
    "# NLP Text Article Classification for US Economic Content\n",
    "\n",
    "With this workbook, we will explore the creation of an NLP model that can\n",
    "classify article text to determine if it is an article about US economics or not. \n",
    "\n",
    "The dataset we're using is the `US Economic News Articles (Useful for NLP)` dataset\n",
    "from kaggle: https://www.kaggle.com/datasets/heeraldedhia/us-economic-news-articles.\n",
    "This dataset provide the article content and a binary classification for whether or\n",
    "not the article is relevant to the US Economy.\n",
    "\n",
    "We will be using a few classification approaches and show how classic \n",
    "statistical modeling for NLP classification tasks may compare against\n",
    "newer technologies like transformers and NNs.\n",
    "\n",
    "So first, we will try some high-dimensional learning with traditional\n",
    "supervised learning methods using vectorization.\n",
    "\n",
    "The design used for the NN model will be a single output binary classification head\n",
    "built on top of a pretrained transformer. This may seem like a daunting effort, but\n",
    "ultimately the transformer will output a rich embedding of the textual content that\n",
    "we can then use for our simple 2 layer neural-network classifier. \n",
    "\n",
    "The data and a copy of this workbook will be available here: https://github.com/colinrgodsey/cu-msds-dtsa-5509\n",
    "\n",
    "Let's begin."
   ]
  },
  {
   "cell_type": "code",
   "execution_count": 2,
   "metadata": {},
   "outputs": [
    {
     "name": "stdout",
     "output_type": "stream",
     "text": [
      "Not connected to a GPU\n"
     ]
    },
    {
     "name": "stderr",
     "output_type": "stream",
     "text": [
      "[nltk_data] Downloading package punkt to /root/nltk_data...\n",
      "[nltk_data]   Package punkt is already up-to-date!\n",
      "[nltk_data] Downloading package wordnet to /root/nltk_data...\n",
      "[nltk_data]   Package wordnet is already up-to-date!\n",
      "[nltk_data] Downloading package averaged_perceptron_tagger to\n",
      "[nltk_data]     /root/nltk_data...\n",
      "[nltk_data]   Package averaged_perceptron_tagger is already up-to-\n",
      "[nltk_data]       date!\n",
      "[nltk_data] Downloading package stopwords to /root/nltk_data...\n",
      "[nltk_data]   Package stopwords is already up-to-date!\n"
     ]
    }
   ],
   "source": [
    "from transformers import AutoTokenizer, TFAutoModel\n",
    "from transformers.optimization_tf import create_optimizer\n",
    "import tensorflow as tf\n",
    "import numpy as np\n",
    "import pandas as pd\n",
    "from sklearn.model_selection import train_test_split\n",
    "import matplotlib.pyplot as plt\n",
    "import nltk\n",
    "\n",
    "nltk.download('punkt')\n",
    "nltk.download('wordnet')\n",
    "nltk.download('averaged_perceptron_tagger')\n",
    "nltk.download('stopwords')\n",
    "\n",
    "if not tf.test.is_gpu_available():\n",
    "  print('Not connected to a GPU')\n",
    "else:\n",
    "  print('gpu found')\n",
    "\n",
    "gpus = tf.config.list_physical_devices('GPU')\n",
    "if gpus:\n",
    "  try:\n",
    "    # Currently, memory growth needs to be the same across GPUs\n",
    "    for gpu in gpus:\n",
    "      tf.config.experimental.set_memory_growth(gpu, True)\n",
    "    logical_gpus = tf.config.list_logical_devices('GPU')\n",
    "    print(len(gpus), \"Physical GPUs,\", len(logical_gpus), \"Logical GPUs\")\n",
    "  except RuntimeError as e:\n",
    "    # Memory growth must be set before GPUs have been initialized\n",
    "    print(e)"
   ]
  },
  {
   "cell_type": "markdown",
   "metadata": {},
   "source": [
    "## Data Exploration ##"
   ]
  },
  {
   "cell_type": "code",
   "execution_count": 3,
   "metadata": {},
   "outputs": [
    {
     "name": "stdout",
     "output_type": "stream",
     "text": [
      "<class 'pandas.core.frame.DataFrame'>\n",
      "RangeIndex: 8000 entries, 0 to 7999\n",
      "Data columns (total 15 columns):\n",
      " #   Column                 Non-Null Count  Dtype  \n",
      "---  ------                 --------------  -----  \n",
      " 0   _unit_id               8000 non-null   int64  \n",
      " 1   _golden                8000 non-null   bool   \n",
      " 2   _unit_state            8000 non-null   object \n",
      " 3   _trusted_judgments     8000 non-null   int64  \n",
      " 4   _last_judgment_at      8000 non-null   object \n",
      " 5   positivity             1420 non-null   float64\n",
      " 6   positivity:confidence  3775 non-null   float64\n",
      " 7   relevance              8000 non-null   object \n",
      " 8   relevance:confidence   8000 non-null   float64\n",
      " 9   articleid              8000 non-null   object \n",
      " 10  date                   8000 non-null   object \n",
      " 11  headline               8000 non-null   object \n",
      " 12  positivity_gold        0 non-null      float64\n",
      " 13  relevance_gold         0 non-null      float64\n",
      " 14  text                   8000 non-null   object \n",
      "dtypes: bool(1), float64(5), int64(2), object(7)\n",
      "memory usage: 882.9+ KB\n",
      "None\n"
     ]
    }
   ],
   "source": [
    "df = pd.read_csv(\"https://raw.githubusercontent.com/colinrgodsey/cu-msds-dtsa-5509/main/US-Economic-News.csv\", encoding_errors=\"replace\")\n",
    "\n",
    "print(df.info())"
   ]
  },
  {
   "cell_type": "markdown",
   "metadata": {},
   "source": [
    "The authors have provided some metadata in this dataset. Most of it is not\n",
    "useful for our task, but they do provide a confidence score. Presumambly, this\n",
    "data was scraped using some undisclosed system (or possibly another \n",
    "classifier) to pre-classify this data.\n",
    "\n",
    "Lets see if there's any good relationship between the confidence and the\n",
    "length of the article. This may provide us a good clue on which data is\n",
    "higher quality. "
   ]
  },
  {
   "cell_type": "code",
   "execution_count": 4,
   "metadata": {},
   "outputs": [
    {
     "data": {
      "image/png": "[encoded data removed]",
      "text/plain": [
       "<Figure size 640x480 with 1 Axes>"
      ]
     },
     "metadata": {},
     "output_type": "display_data"
    }
   ],
   "source": [
    "df['length'] = df['text'].str.len()\n",
    "\n",
    "plt.scatter(df.length, df['positivity:confidence'])\n",
    "plt.show()"
   ]
  },
  {
   "cell_type": "markdown",
   "metadata": {},
   "source": [
    "The larger articles indeed seem to have a lower confidence. This is good news\n",
    "for us considering this is an NLP project, and longer data will make for more\n",
    "complicated analysis. Let's remove all articles where there are more than 2500\n",
    "characters, and anything with articles less than 300 characters."
   ]
  },
  {
   "cell_type": "code",
   "execution_count": 5,
   "metadata": {},
   "outputs": [
    {
     "name": "stdout",
     "output_type": "stream",
     "text": [
      "Removed 293 long samples.\n"
     ]
    }
   ],
   "source": [
    "size_prior = len(df)\n",
    "df = df[df.length < 2500]\n",
    "df = df[df.length > 300]\n",
    "delta = size_prior - len(df)\n",
    "print(f'Removed {delta} long samples.')"
   ]
  },
  {
   "cell_type": "markdown",
   "metadata": {},
   "source": [
    "We want to reduce our dataset a little\n",
    "bit for this workbook to aid in training times, so we take only articles\n",
    "with a higher confidence rate. "
   ]
  },
  {
   "cell_type": "code",
   "execution_count": 6,
   "metadata": {},
   "outputs": [
    {
     "name": "stdout",
     "output_type": "stream",
     "text": [
      "count    7707.000000\n",
      "mean        0.857493\n",
      "std         0.166459\n",
      "min         0.336400\n",
      "25%         0.669600\n",
      "50%         1.000000\n",
      "75%         1.000000\n",
      "max         1.000000\n",
      "Name: relevance:confidence, dtype: float64\n",
      "count    5334.000000\n",
      "mean        0.946603\n",
      "std         0.116605\n",
      "min         0.680100\n",
      "25%         1.000000\n",
      "50%         1.000000\n",
      "75%         1.000000\n",
      "max         1.000000\n",
      "Name: relevance:confidence, dtype: float64\n"
     ]
    }
   ],
   "source": [
    "print(df['relevance:confidence'].describe())\n",
    "\n",
    "# remove a small amount of low confidence data\n",
    "df = df[df['relevance:confidence'] > 0.68]\n",
    "\n",
    "print(df['relevance:confidence'].describe())"
   ]
  },
  {
   "cell_type": "markdown",
   "metadata": {},
   "source": [
    "## Balance the Data\n",
    "\n",
    "The problem we're persuing is best handled with balanced training and validation\n",
    "data. This set could be later reshuffled to introduce more varienty, but for this\n",
    "body of work we're just going to balance the whole dataset by removing some\n",
    "non-us-economy articles and work with those results.\n",
    "\n",
    "Below, we show the distribution before and after rebalancing."
   ]
  },
  {
   "cell_type": "code",
   "execution_count": 7,
   "metadata": {},
   "outputs": [
    {
     "name": "stdout",
     "output_type": "stream",
     "text": [
      "count     5334\n",
      "unique       2\n",
      "top         no\n",
      "freq      4727\n",
      "Name: relevance, dtype: object\n"
     ]
    },
    {
     "data": {
      "text/plain": [
       "count     1214\n",
       "unique       2\n",
       "top        yes\n",
       "freq       607\n",
       "Name: relevance, dtype: object"
      ]
     },
     "execution_count": 7,
     "metadata": {},
     "output_type": "execute_result"
    }
   ],
   "source": [
    "print(df.relevance.describe())\n",
    "\n",
    "# idempotent, run it all you like. run the above if you want a new shuffle\n",
    "n_total = len(df)\n",
    "df_true = df[df.relevance == 'yes']\n",
    "df_false = df[df.relevance == 'no']\n",
    "n_samples = min(len(df_true), len(df_false))\n",
    "df_true = df_true.sample(n_samples)\n",
    "df_false = df_false.sample(n_samples)\n",
    "\n",
    "df = pd.concat([df_true, df_false])\n",
    "\n",
    "# shuffle\n",
    "df = df.sample(frac = 1)\n",
    "\n",
    "df.relevance.describe()"
   ]
  },
  {
   "cell_type": "markdown",
   "metadata": {},
   "source": [
    "## Traditional Supervised Learning Models ##\n",
    "We'll first explore using traditional supervised learning techniques. This will involve\n",
    "using word lemetization and vectorization to reduce the dimensionality of our\n",
    "input as much as possible and simplify the english language representation so we can\n",
    "perform lower dimension analysis on the language data. Even with this effort, we\n",
    "will still have several hundred dimensions available for our text vector."
   ]
  },
  {
   "cell_type": "code",
   "execution_count": 303,
   "metadata": {},
   "outputs": [
    {
     "name": "stderr",
     "output_type": "stream",
     "text": [
      "/tmp/ipykernel_8043/1385147134.py:22: SettingWithCopyWarning: \n",
      "A value is trying to be set on a copy of a slice from a DataFrame\n",
      "\n",
      "See the caveats in the documentation: https://pandas.pydata.org/pandas-docs/stable/user_guide/indexing.html#returning-a-view-versus-a-copy\n",
      "  df.iloc[index].at['stext_final'] = ' '.join(fwords)\n"
     ]
    },
    {
     "name": "stdout",
     "output_type": "stream",
     "text": [
      "1778    NEW YORK -- The ailing U.S. economy could soon...\n",
      "4740    The economic boom of the 1990s raised the inco...\n",
      "68      Some people continue to believe, or at least s...\n",
      "5325    NEW YORK���Despite the stock market�۪s broad r...\n",
      "3973    Kudos to the Journal for getting it right in t...\n",
      "                              ...                        \n",
      "1045    THE JOBLESS RATE ROSE to 7% in September from ...\n",
      "7000    With the stock market continuing to fall from ...\n",
      "2929    NEW YORK -- \"On your mark. Get set. Go . . . s...\n",
      "1611    Author: Abhrajit Gangopadhyay</br></br>NEW DEL...\n",
      "7961    market for |the year will be buoyant. It will ...\n",
      "Name: text, Length: 1214, dtype: object\n",
      "1778    NEW YORK -- The ailing U.S. economy could soon...\n",
      "4740    The economic boom of the 1990s raised the inco...\n",
      "68      Some people continue to believe, or at least s...\n",
      "5325    NEW YORK���Despite the stock market�۪s broad r...\n",
      "3973    Kudos to the Journal for getting it right in t...\n",
      "                              ...                        \n",
      "1045    THE JOBLESS RATE ROSE to 7% in September from ...\n",
      "7000    With the stock market continuing to fall from ...\n",
      "2929    NEW YORK -- \"On your mark. Get set. Go . . . s...\n",
      "1611    Author: Abhrajit Gangopadhyay</br></br>NEW DEL...\n",
      "7961    market for |the year will be buoyant. It will ...\n",
      "Name: stext_final, Length: 1214, dtype: object\n"
     ]
    }
   ],
   "source": [
    "from nltk.tokenize import word_tokenize\n",
    "from nltk import pos_tag\n",
    "from nltk.corpus import stopwords\n",
    "from nltk.stem import WordNetLemmatizer\n",
    "from collections import defaultdict\n",
    "from nltk.corpus import wordnet as wn\n",
    "\n",
    "df['stext_final'] = df.text\n",
    "df['stext'] = [entry.lower() for entry in df['text']]\n",
    "df['stext'] = [word_tokenize(entry) for entry in df['stext']]\n",
    "tag_map = defaultdict(lambda : wn.NOUN)\n",
    "tag_map['J'] = wn.ADJ\n",
    "tag_map['V'] = wn.VERB\n",
    "tag_map['R'] = wn.ADV\n",
    "for index, entry in enumerate(df['stext']):\n",
    "    fwords = []\n",
    "    wordlem = WordNetLemmatizer()\n",
    "    for word, tag in pos_tag(entry):\n",
    "        if word not in stopwords.words('english') and word.isalpha():\n",
    "            wordf = wordlem.lemmatize(word,tag_map[tag[0]])\n",
    "            fwords.append(wordf)\n",
    "    df.iloc[index].at['stext_final'] = ' '.join(fwords)\n",
    "\n",
    "print(df.text)\n",
    "print(df.stext_final)"
   ]
  },
  {
   "cell_type": "markdown",
   "metadata": {},
   "source": [
    "Next we prepair our data split and our word vectorizer. The word\n",
    "vectorization will finally break down our reduced list of\n",
    "words into numerical dimensions that we build a model against.\n",
    "\n",
    "We chose 1000 dimension for our word vectorization."
   ]
  },
  {
   "cell_type": "code",
   "execution_count": 320,
   "metadata": {},
   "outputs": [
    {
     "name": "stdout",
     "output_type": "stream",
     "text": [
      "1778    NEW YORK -- The ailing U.S. economy could soon...\n",
      "4740    The economic boom of the 1990s raised the inco...\n",
      "68      Some people continue to believe, or at least s...\n",
      "5325    NEW YORK���Despite the stock market�۪s broad r...\n",
      "3973    Kudos to the Journal for getting it right in t...\n",
      "Name: stext_final, dtype: object\n",
      "count     1214\n",
      "unique       2\n",
      "top         no\n",
      "freq       607\n",
      "Name: relevance, dtype: object\n",
      "(971, 1000) (971,)\n"
     ]
    }
   ],
   "source": [
    "from sklearn.feature_extraction.text import TfidfVectorizer\n",
    "\n",
    "num_features = 1000\n",
    "\n",
    "print(dfs.stext_final.head())\n",
    "\n",
    "dfs = df[df.stext_final.notna()].copy()\n",
    "\n",
    "vec = TfidfVectorizer(max_features=num_features)\n",
    "vec.fit(dfs.stext_final)\n",
    "\n",
    "x_all = dfs.stext_final\n",
    "y_all = dfs.relevance == \"yes\"\n",
    "\n",
    "val_split = 0.2\n",
    "x_train, x_test, y_train, y_test = train_test_split(\n",
    "    x_all, y_all, test_size=val_split)\n",
    "\n",
    "x_all = vec.transform(x_all)\n",
    "x_train = vec.transform(x_train)\n",
    "x_test = vec.transform(x_test)\n",
    "\n",
    "print(df.relevance.describe())\n",
    "\n",
    "print(x_train.shape, y_train.shape)"
   ]
  },
  {
   "cell_type": "markdown",
   "metadata": {},
   "source": [
    "## SVM\n",
    "\n",
    "For our first traditional model, we'll use SVM. We start by doing a grid\n",
    "search to find the ideal hyperparameters for our incredibly high dimensional\n",
    "data we now have."
   ]
  },
  {
   "cell_type": "code",
   "execution_count": 324,
   "metadata": {},
   "outputs": [],
   "source": [
    "from sklearn.svm import SVC\n",
    "from sklearn.model_selection import cross_val_score, GridSearchCV\n",
    "\n",
    "space = np.logspace(-5, 5, num=6, base=2)\n",
    "\n",
    "grid = GridSearchCV(SVC(), cv=3,\n",
    "                   param_grid={'C': space, 'gamma': space}).fit(x_train, y_train)"
   ]
  },
  {
   "cell_type": "code",
   "execution_count": 306,
   "metadata": {},
   "outputs": [],
   "source": [
    "def plotSearchGrid(grid, params):\n",
    "    scores = [x for x in grid.cv_results_[\"mean_test_score\"]]\n",
    "    scores = np.array(scores).reshape(len(grid.param_grid[params[0]]), len(grid.param_grid[params[1]]))\n",
    "\n",
    "    plt.figure(figsize=(10, 8))\n",
    "    plt.subplots_adjust(left=.2, right=0.95, bottom=0.15, top=0.95)\n",
    "    plt.imshow(scores, interpolation='nearest', cmap=plt.cm.hot)\n",
    "    plt.xlabel(params[1])\n",
    "    plt.ylabel(params[0])\n",
    "    plt.colorbar()\n",
    "    plt.xticks(np.arange(len(grid.param_grid[params[1]])), grid.param_grid[params[1]], rotation=45)\n",
    "    plt.yticks(np.arange(len(grid.param_grid[params[0]])), grid.param_grid[params[0]])\n",
    "    plt.title('Validation accuracy')\n",
    "    plt.show()\n",
    "\n",
    "def print_roc(y_true, y_pred):\n",
    "    fpr, tpr, _ = roc_curve(y_true, y_pred)\n",
    "    auc = roc_auc_score(y_true, y_pred)\n",
    "    auc_neat = int(auc * 1000) / 1000\n",
    "\n",
    "    fig, ax = plt.subplots(nrows=1,ncols=1,figsize=(12,7))\n",
    "    ax.plot(fpr, tpr, lw=2, label=f\"ROC (AUC={auc_neat})\")\n",
    "    ax.plot([0, 1], [0, 1],'r--')\n",
    "    ax.set_xlabel(\"False Positive Rate\", fontsize=16)\n",
    "    ax.set_ylabel(\"True Positive Rate\", fontsize=16)\n",
    "    ax.set_title(f\"ROC Curve\", fontsize=16)\n",
    "    ax.legend(loc=\"best\")\n",
    "    plt.show()"
   ]
  },
  {
   "cell_type": "code",
   "execution_count": 307,
   "metadata": {},
   "outputs": [
    {
     "data": {
      "image/png": "[encoded data removed]",
      "text/plain": [
       "<Figure size 1000x800 with 2 Axes>"
      ]
     },
     "metadata": {},
     "output_type": "display_data"
    }
   ],
   "source": [
    "plotSearchGrid(grid, [\"C\", \"gamma\"])"
   ]
  },
  {
   "cell_type": "markdown",
   "metadata": {},
   "source": [
    "It appears the ideal hyperparameters for SVC are C=0.5 and gamma=0.5. We'll move \n",
    "ahead with this assumption and use the best fit model from the grid search and\n",
    "continue our analysis."
   ]
  },
  {
   "cell_type": "code",
   "execution_count": 328,
   "metadata": {},
   "outputs": [
    {
     "name": "stdout",
     "output_type": "stream",
     "text": [
      "cross-val mean-accuracy: 0.765\n",
      "simple accuracy 0.7736625514403292\n"
     ]
    }
   ],
   "source": [
    "from sklearn.metrics import accuracy_score\n",
    "\n",
    "clf = grid.best_estimator_\n",
    "\n",
    "scores = cross_val_score(clf, x_all, y_all)\n",
    "acc = accuracy_score(y_test, clf.predict(x_test))\n",
    "print(\"cross-val mean-accuracy: {:.3f}\".format(np.mean(scores)))\n",
    "print(f\"simple accuracy {acc}\")"
   ]
  },
  {
   "cell_type": "markdown",
   "metadata": {},
   "source": [
    "It seems SVM is shockingly good at this type of NLP classification problem, with\n",
    "a simple accuracy score of 77% on the test set, and a 76% on the cross-validation. \n",
    "Let's move on to using a random forest to see if we can produce something even better.\n",
    "\n",
    "## Random Forest ##"
   ]
  },
  {
   "cell_type": "code",
   "execution_count": 331,
   "metadata": {},
   "outputs": [],
   "source": [
    "from sklearn.ensemble import RandomForestClassifier\n",
    "\n",
    "grid = GridSearchCV(RandomForestClassifier(), cv=3,\n",
    "                   param_grid={\n",
    "                    'n_estimators': [10, 30, 50, 100, 150], \n",
    "                    'max_depth': [1, 5, 10, 30, 50],\n",
    "                   }).fit(x_train, y_train)"
   ]
  },
  {
   "cell_type": "code",
   "execution_count": 332,
   "metadata": {},
   "outputs": [
    {
     "data": {
      "image/png": "[encoded data removed]",
      "text/plain": [
       "<Figure size 1000x800 with 2 Axes>"
      ]
     },
     "metadata": {},
     "output_type": "display_data"
    }
   ],
   "source": [
    "plotSearchGrid(grid, [\"n_estimators\", \"max_depth\"])"
   ]
  },
  {
   "cell_type": "markdown",
   "metadata": {},
   "source": [
    "Wow, apparently an ensemble classifier also works pretty well too at \n",
    "max depth of 50, and 50 estimators.\n",
    "\n",
    "Let's dive a little deeper into the performance."
   ]
  },
  {
   "cell_type": "code",
   "execution_count": 335,
   "metadata": {},
   "outputs": [
    {
     "name": "stdout",
     "output_type": "stream",
     "text": [
      "cross-val mean-accuracy: 0.759\n",
      "simple accuracy 0.7613168724279835\n"
     ]
    }
   ],
   "source": [
    "from sklearn.metrics import roc_curve, roc_auc_score\n",
    "\n",
    "clf = grid.best_estimator_\n",
    "\n",
    "y_pred = clf.predict(x_test)\n",
    "scores = cross_val_score(clf, x_all, y_all)\n",
    "acc = accuracy_score(y_test, y_pred)\n",
    "\n",
    "print(\"cross-val mean-accuracy: {:.3f}\".format(np.mean(scores)))\n",
    "print(f\"simple accuracy {acc}\")"
   ]
  },
  {
   "cell_type": "markdown",
   "metadata": {},
   "source": [
    "The random forest also does remarkably will with NLP text classification!\n",
    "The cross validation comes in at 75%, with simple test set accuract at 76%.\n",
    "\n",
    "It's now time to break out the big guns. Lets see if a transformer model can\n",
    "do even better!!"
   ]
  },
  {
   "cell_type": "markdown",
   "metadata": {},
   "source": [
    "## Transformer Data Preprocessing\n",
    "Now that we have a fully balanced dataset, we need to prepare our data for model \n",
    "training. We're going to be using the distilbert transformer as the processor for our \n",
    "classification model. Distilbert is a reduced version of BERT that shares the same\n",
    "general architecture. Throughout this workbook we may use BERT and distilbert \n",
    "interchangeably. \n",
    "\n",
    "To prepare the text data for the transformer, we will\n",
    "be combining the headline and article body together using the transformers\n",
    "preferred separator, which is defined in the tokenizer. \n",
    "\n",
    "The tokenizer will also prepend a special `cls` token at the start of each input,\n",
    "which is a special token in some transformers that are trained with sequence\n",
    "classification tasks. This token is generally placed first in the text content\n",
    "and will produce special classification values in the 0 output of the \n",
    "transformer's hidden state.\n",
    "\n",
    "BERT-based models have a sequence limit of 512 tokens. This is a bit unfortunate\n",
    "for article classification, because many of these sequences are longer than 512 \n",
    "words (which best case would be 512 tokens). Further work on this project would\n",
    "involve a more advanced processing system, either based on ensemble classification\n",
    "for different chunks of the article, or perhaps even just breaking apart a single\n",
    "article into several different independent samples. After all, an article of this\n",
    "length should probably stay on topic, and there's a good chance that the independent\n",
    "chunks would still be valid samples.\n",
    "\n",
    "The tokenizer and model will both be pulled from HuggingFace, which is a fantastic\n",
    "repository and SDK for all sorts of models, and they have an especially good\n",
    "transformers library. Each transformer comes with its own tokenizer which gives\n",
    "us the functionality we need to effictively convert our text into the tokenized\n",
    "representation the model expects."
   ]
  },
  {
   "cell_type": "code",
   "execution_count": 8,
   "metadata": {},
   "outputs": [
    {
     "data": {
      "text/html": [
       "<div>\n",
       "<style scoped>\n",
       "    .dataframe tbody tr th:only-of-type {\n",
       "        vertical-align: middle;\n",
       "    }\n",
       "\n",
       "    .dataframe tbody tr th {\n",
       "        vertical-align: top;\n",
       "    }\n",
       "\n",
       "    .dataframe thead th {\n",
       "        text-align: right;\n",
       "    }\n",
       "</style>\n",
       "<table border=\"1\" class=\"dataframe\">\n",
       "  <thead>\n",
       "    <tr style=\"text-align: right;\">\n",
       "      <th></th>\n",
       "      <th>input</th>\n",
       "      <th>relevance</th>\n",
       "    </tr>\n",
       "  </thead>\n",
       "  <tbody>\n",
       "    <tr>\n",
       "      <th>3649</th>\n",
       "      <td>Stock Market Quarterly Review -- Essay: Feel-G...</td>\n",
       "      <td>yes</td>\n",
       "    </tr>\n",
       "    <tr>\n",
       "      <th>7273</th>\n",
       "      <td>Long Term Interest Rates Have Climbed Back Aga...</td>\n",
       "      <td>no</td>\n",
       "    </tr>\n",
       "    <tr>\n",
       "      <th>2591</th>\n",
       "      <td>Euro Upside Is Seen, for Now [SEP] Author: Bra...</td>\n",
       "      <td>yes</td>\n",
       "    </tr>\n",
       "    <tr>\n",
       "      <th>580</th>\n",
       "      <td>U.S. Trade Gap Shrank Slightly during January ...</td>\n",
       "      <td>yes</td>\n",
       "    </tr>\n",
       "    <tr>\n",
       "      <th>3316</th>\n",
       "      <td>Several Banks Show Rebound From Deficits --- L...</td>\n",
       "      <td>yes</td>\n",
       "    </tr>\n",
       "    <tr>\n",
       "      <th>...</th>\n",
       "      <td>...</td>\n",
       "      <td>...</td>\n",
       "    </tr>\n",
       "    <tr>\n",
       "      <th>391</th>\n",
       "      <td>Dollar Rises Against Yen Despite Data [SEP] Au...</td>\n",
       "      <td>yes</td>\n",
       "    </tr>\n",
       "    <tr>\n",
       "      <th>5954</th>\n",
       "      <td>Fannie Mae's Profit Surged In 1st Quarter: [SE...</td>\n",
       "      <td>no</td>\n",
       "    </tr>\n",
       "    <tr>\n",
       "      <th>687</th>\n",
       "      <td>RJR Nabisco Seeks to Cut Interest Rates on $6 ...</td>\n",
       "      <td>no</td>\n",
       "    </tr>\n",
       "    <tr>\n",
       "      <th>4597</th>\n",
       "      <td>Market Closes Mixed After Early Slump [SEP] NE...</td>\n",
       "      <td>no</td>\n",
       "    </tr>\n",
       "    <tr>\n",
       "      <th>3578</th>\n",
       "      <td>Housing Starts Tumbled 2.2% In September --- R...</td>\n",
       "      <td>yes</td>\n",
       "    </tr>\n",
       "  </tbody>\n",
       "</table>\n",
       "<p>1214 rows × 2 columns</p>\n",
       "</div>"
      ],
      "text/plain": [
       "                                                  input relevance\n",
       "3649  Stock Market Quarterly Review -- Essay: Feel-G...       yes\n",
       "7273  Long Term Interest Rates Have Climbed Back Aga...        no\n",
       "2591  Euro Upside Is Seen, for Now [SEP] Author: Bra...       yes\n",
       "580   U.S. Trade Gap Shrank Slightly during January ...       yes\n",
       "3316  Several Banks Show Rebound From Deficits --- L...       yes\n",
       "...                                                 ...       ...\n",
       "391   Dollar Rises Against Yen Despite Data [SEP] Au...       yes\n",
       "5954  Fannie Mae's Profit Surged In 1st Quarter: [SE...        no\n",
       "687   RJR Nabisco Seeks to Cut Interest Rates on $6 ...        no\n",
       "4597  Market Closes Mixed After Early Slump [SEP] NE...        no\n",
       "3578  Housing Starts Tumbled 2.2% In September --- R...       yes\n",
       "\n",
       "[1214 rows x 2 columns]"
      ]
     },
     "execution_count": 8,
     "metadata": {},
     "output_type": "execute_result"
    }
   ],
   "source": [
    "transformer_name = \"distilbert-base-uncased\"\n",
    "\n",
    "tokenizer = AutoTokenizer.from_pretrained(transformer_name)\n",
    "\n",
    "def clean_text(str):\n",
    "  str = str.replace(\"</br>\", ' ')\n",
    "  return str\n",
    "\n",
    "df['input'] = df.headline + (' ' + tokenizer.sep_token + ' ') + df.text\n",
    "df['input'] = df.input.apply(clean_text)\n",
    "\n",
    "df[['input', 'relevance']]"
   ]
  },
  {
   "cell_type": "markdown",
   "metadata": {},
   "source": [
    "Below we show one of the samples as it is before tokenization, and\n",
    "then we reverse the tokenization to get a better idea of what the model\n",
    "will actually be seeing. You can see that punctuation is simplified, casing \n",
    "is removed, and some words are broken down into more simple representations."
   ]
  },
  {
   "cell_type": "code",
   "execution_count": 9,
   "metadata": {},
   "outputs": [
    {
     "name": "stdout",
     "output_type": "stream",
     "text": [
      "Leading Indicators Fell Last Month; Decline is Fourth in a Row; Hurricanes, High Oil Prices Slowed Growth of Economy [SEP] WASHINGTON -- The Conference Board's composite index of leading indicators slipped in September for the fourth straight month, signaling that the economic soft patch will persist.  Separately, the U.S. Labor Department reported that the number of workers filing first-time applications for unemployment benefits dropped by an unexpectedly steep 25,000 last week, a decline that may have been skewed by the holiday-shortened week.  The Conference Board, a private research group in New York, reported that its composite index of leading indicators fell by 0.1% to a reading of 115.6 in September, after August's 0.3% decline. The slightness of the declines in the past four months seems to argue against invoking the economists' rule of thumb that three consecutive declines in the index signal a recession.  \"While the leading index is not yet signaling a downturn, the growth rate of the leading index has slowed,\" said Ken Goldstein, an economist with the Conference Board. Economic growth should continue, but more slowly than expected, he added. The index is designed to predict the economy's path during the next three to six months.  Oil prices have had a negative impact on the economy, but not enough to produce a broad spike in inflation. Recent hurricanes may also have held down economic activity, the Conference Board said.\n",
      "[CLS] leading indicators fell last month ; decline is fourth in a row ; hurricanes, high oil prices slowed growth of economy [SEP] washington - - the conference board's composite index of leading indicators slipped in september for the fourth straight month, signaling that the economic soft patch will persist. separately, the u. s. labor department reported that the number of workers filing first - time applications for unemployment benefits dropped by an unexpectedly steep 25, 000 last week, a decline that may have been skewed by the holiday - shortened week. the conference board, a private research group in new york, reported that its composite index of leading indicators fell by 0. 1 % to a reading of 115. 6 in september, after august's 0. 3 % decline. the slightness of the declines in the past four months seems to argue against invoking the economists'rule of thumb that three consecutive declines in the index signal a recession. \" while the leading index is not yet signaling a downturn, the growth rate of the leading index has slowed, \" said ken goldstein, an economist with the conference board. economic growth should continue, but more slowly than expected, he added. the index is designed to predict the economy's path during the next three to six months. oil prices have had a negative impact on the economy, but not enough to produce a broad spike in inflation. recent hurricanes may also have held down economic activity, the conference board said. [SEP]\n"
     ]
    }
   ],
   "source": [
    "test_input = df.input[df.relevance == 'yes'].iloc[5]\n",
    "print(test_input)\n",
    "\n",
    "test_encoded = tokenizer([test_input], padding=True, truncation=True)\n",
    "test_decoded = tokenizer.decode(test_encoded.input_ids[0])\n",
    "print(test_decoded)"
   ]
  },
  {
   "cell_type": "markdown",
   "metadata": {},
   "source": [
    "Now that we have our `input` column prepared, we need to break the data apart\n",
    "into our final training and validation pairs. \n",
    "After splitting, we convert the `relevance` field from yes/no to a binary\n",
    "1/0. For the `input` column, we then apply the tokenizer which gives us the correctly\n",
    "formated tensorflow input we will use for training.\n",
    "\n",
    "The input data needs to take on a rather odd form for this transformer model. If you\n",
    "look at the output in this next code cell, you'll see that input data is actually \n",
    "a map with the keys for 2 different inputs, and the value of each being a uniform \n",
    "input tensor for the dataset. This is the Keras and Tensorflow way of handling multiple\n",
    "inputs: you can still treat the input as a single X value, but internally it maps\n",
    "to different named tensors that the model takes in.\n",
    "\n",
    "In the case of a BERT based transformer, we need to provide an input for \n",
    "`input_ids`, which is the integer tensor of tokens, and `attention_mask` which\n",
    "is a necessary input the blocks the attention mechanism for reacting to tokens\n",
    "that aren't there. This is slightly odd, but necessary, given that the model\n",
    "can only accept a rigidly shaped input (with except to batch size) that may \n",
    "represet a block of text that is smaller than the maximum size it can take."
   ]
  },
  {
   "cell_type": "code",
   "execution_count": 10,
   "metadata": {},
   "outputs": [
    {
     "name": "stdout",
     "output_type": "stream",
     "text": [
      "len train: 2, len test: 2\n",
      "{'input_ids': <tf.Tensor: shape=(971, 512), dtype=int32, numpy=\n",
      "array([[  101,  2188,  4341, ...,     0,     0,     0],\n",
      "       [  101,  1996,  3361, ...,     0,     0,     0],\n",
      "       [  101,  2457,  2613, ...,     0,     0,     0],\n",
      "       ...,\n",
      "       [  101, 12430,  3976, ...,     0,     0,     0],\n",
      "       [  101,  5374,  1025, ...,     0,     0,     0],\n",
      "       [  101,  9387,  3420, ...,     0,     0,     0]], dtype=int32)>, 'attention_mask': <tf.Tensor: shape=(971, 512), dtype=int32, numpy=\n",
      "array([[1, 1, 1, ..., 0, 0, 0],\n",
      "       [1, 1, 1, ..., 0, 0, 0],\n",
      "       [1, 1, 1, ..., 0, 0, 0],\n",
      "       ...,\n",
      "       [1, 1, 1, ..., 0, 0, 0],\n",
      "       [1, 1, 1, ..., 0, 0, 0],\n",
      "       [1, 1, 1, ..., 0, 0, 0]], dtype=int32)>}\n",
      "tf.Tensor(\n",
      "[1 1 0 1 0 0 1 0 1 0 0 0 0 0 1 0 1 1 0 0 1 1 1 1 1 0 0 0 0 0 0 1 1 0 1 0 1\n",
      " 0 0 1 1 1 0 1 0 0 0 0 1 1 0 1 1 1 1 0 1 0 1 0 0 1 1 0 0 1 1 1 1 0 1 1 1 0\n",
      " 1 1 1 0 0 0 0 0 0 0 0 1 0 0 1 0 1 0 0 0 1 1 1 1 0 1 1 1 0 1 1 1 1 0 1 1 0\n",
      " 1 0 0 1 0 1 1 1 0 1 1 0 1 1 1 1 0 0 1 1 1 0 0 1 1 0 0 0 0 1 1 1 0 1 1 0 0\n",
      " 1 1 0 0 1 1 0 0 0 0 1 0 0 1 0 0 1 0 0 1 0 0 1 0 1 1 0 0 0 0 1 0 0 1 0 1 0\n",
      " 1 0 0 0 0 1 1 1 0 1 0 0 0 1 1 1 0 0 0 0 1 1 1 0 0 0 0 0 0 1 0 0 1 0 1 0 0\n",
      " 1 0 0 1 0 1 0 0 0 0 0 1 1 0 1 0 0 1 1 1 0 1 0 0 0 1 0 0 0 1 0 1 1 1 0 0 0\n",
      " 1 1 1 1 0 0 1 0 1 0 1 0 1 0 0 0 0 0 0 0 1 1 1 1 0 0 1 0 0 1 0 0 0 0 1 0 1\n",
      " 0 1 0 1 1 0 1 0 1 1 0 1 1 0 0 1 0 1 0 0 1 0 1 0 1 1 1 0 1 0 1 0 1 0 1 1 1\n",
      " 1 1 1 0 1 1 0 1 1 0 1 0 1 0 0 1 0 1 0 0 1 0 1 0 1 1 0 1 1 0 1 1 1 0 1 0 1\n",
      " 1 0 1 0 1 0 1 1 1 1 1 1 1 1 1 0 0 0 1 1 0 1 0 1 0 0 1 0 1 1 1 0 0 0 0 1 0\n",
      " 1 1 0 1 0 0 1 0 0 0 0 0 1 1 0 0 0 1 0 1 1 0 1 0 0 1 0 0 1 1 1 1 1 0 0 0 1\n",
      " 1 0 0 0 1 0 0 0 1 0 0 1 0 1 0 0 1 0 1 0 1 1 1 1 1 1 0 1 1 0 0 1 1 0 1 1 1\n",
      " 0 1 1 0 1 0 1 0 1 0 1 0 0 1 0 0 0 1 1 1 1 0 0 0 1 0 0 1 0 0 0 0 0 0 1 1 1\n",
      " 1 0 1 0 0 0 0 0 1 1 1 0 0 0 1 0 0 0 0 0 0 1 1 1 0 1 0 1 0 1 0 0 1 0 0 0 0\n",
      " 1 0 0 0 1 0 1 0 1 1 1 1 1 0 0 1 0 0 0 1 1 0 1 1 0 1 1 0 1 1 1 1 1 0 0 1 1\n",
      " 1 0 1 1 1 0 1 0 1 1 1 0 0 1 1 0 0 0 0 0 0 1 1 1 0 0 0 0 1 1 1 1 0 1 1 1 0\n",
      " 0 0 0 1 1 1 1 1 1 0 0 1 0 0 1 1 1 1 1 0 1 1 1 1 0 1 1 0 0 1 1 1 0 0 0 1 0\n",
      " 0 1 1 0 0 1 0 1 1 1 1 0 1 1 0 1 1 1 1 0 1 1 1 1 0 1 0 1 1 1 1 1 1 0 1 0 1\n",
      " 0 1 0 1 0 1 0 1 1 0 0 0 0 0 1 1 0 1 0 0 0 0 1 1 0 0 1 0 1 0 1 1 1 0 1 1 0\n",
      " 0 1 1 1 0 0 1 0 1 0 1 1 1 1 1 0 1 0 1 1 0 0 0 0 0 0 0 0 0 1 0 0 0 0 0 0 1\n",
      " 0 1 1 0 1 1 0 0 0 1 0 1 0 1 1 0 0 1 0 0 0 1 0 1 1 1 0 0 1 1 0 0 0 1 1 1 0\n",
      " 1 0 1 1 1 1 1 1 0 0 0 0 0 1 0 0 1 0 0 0 0 0 0 0 0 1 0 1 0 1 0 1 0 1 1 0 1\n",
      " 1 0 1 1 1 0 0 0 1 1 1 0 0 1 1 0 1 1 0 0 1 0 0 1 0 0 0 1 1 1 1 0 1 0 1 0 1\n",
      " 0 1 0 0 0 1 1 1 1 1 0 1 1 0 1 0 0 1 1 1 0 1 1 0 0 1 0 1 1 0 0 1 1 1 0 1 0\n",
      " 1 0 0 0 1 1 1 1 1 1 0 0 1 0 1 1 1 0 1 0 1 0 0 1 0 0 1 0 1 1 0 1 0 0 1 0 0\n",
      " 1 1 0 1 0 1 1 0 1], shape=(971,), dtype=uint8)\n"
     ]
    }
   ],
   "source": [
    "val_split = 0.20\n",
    "max_length = tokenizer.model_max_length\n",
    "random_seed = 2857\n",
    "\n",
    "def prepare_data(x, y):\n",
    "  x = tokenizer(x.tolist(), padding=True,\n",
    "                truncation=True, return_tensors=\"tf\")\n",
    "  x = dict(x)\n",
    "  y = tf.convert_to_tensor(y)\n",
    "  y = tf.cast(y, tf.uint8)\n",
    "  return x, y\n",
    "\n",
    "x = df.input\n",
    "y = df.relevance == \"yes\"\n",
    "\n",
    "x_train, x_test, y_train, y_test = train_test_split(\n",
    "  x, y, test_size=val_split, random_state=random_seed)\n",
    "\n",
    "x_train, y_train = prepare_data(x_train, y_train)\n",
    "x_test, y_test = prepare_data(x_test, y_test)\n",
    "\n",
    "print(f'len train: {len(x_train)}, len test: {len(x_test)}')\n",
    "print(x_train)\n",
    "print(y_train)"
   ]
  },
  {
   "cell_type": "markdown",
   "metadata": {},
   "source": [
    "## The Model Architecture\n",
    "\n",
    "Below we define the entire model. HuggingFace offers up most of their models\n",
    "in a Keras format that can be easily extended. In Keras, any model can be \n",
    "used as a layer in a new model. This is a great technique generally called\n",
    "\"transfer learning\" in which you use all or part of a pretrained model in \n",
    "a new model. For our purpose, we want to lean pretty heavily on the pretrained\n",
    "language ability of the distilbert model. The training pattern used here is \n",
    "slightly odd, and will be explained later on.\n",
    "\n",
    "The outline of our model is as follows:\n",
    "1. We define our input as an array of named inputs that mirror the input\n",
    "structure of the distilbert model. \n",
    "2. We pass this input to the loaded and pretrained distilbert model that\n",
    "we loaded using the HuggingFace `transformers` library.\n",
    "3. The output at this point is a tensor of Bx512x768 shape. The BERT\n",
    "transformer maintains a pretty stable shape throughout its attention layers,\n",
    "and this is the final output of those layers. See the footnote on BERT hidden \n",
    "state below for how we handle this output.\n",
    "4. The reconfigured output from BERT is then fed into a layer normalization, \n",
    "which is the generally accepted form\n",
    "of normalization for NLP tasks, then we apply a dropout at 30%, which is\n",
    "a pretty standard NN technique to encourage generalization. Dropout pushes\n",
    "the model towards lower variance, but you need to strike the right balance that\n",
    "also gives a low bias. \n",
    "5. This output is the fed into our pre-classifier layer. \n",
    "This is a dense (fully-connected) layer that uses GELU activation (a more \n",
    "statistically sound verion of the rectified linear activation). A preclassification\n",
    "layer provides a high dimentional feature pool that will be used by the final\n",
    "neuronwe'll use for our classifier. We chose 1024 features for this layer to\n",
    "account for the high dimensionality (768 x 2) of the data being fed to it. \n",
    "6. We use dropout after the pre-classifier to again encourage \n",
    "generalization. \n",
    "7. We finally feed the pre-classifier output into our classifier neuron\n",
    "which uses the sigmoid activation. \n",
    "\n",
    "We then set up some training parameters before we compile the Keras model. We\n",
    "pick an MSE error for the optimizer, as it tends to perform a little better\n",
    "than BCE when using a single classifier output, althought BCE would also\n",
    "generally work. \n",
    "\n",
    "We define a training function that lets us specify which part of the model\n",
    "we're trying to train and a starting learning rate. We use the start learning\n",
    "rate to define a polynomial learning rate decay that is again used to encourage\n",
    "generalization.\n",
    "\n",
    "The dropouts were searched for by hand. The goal was to find a dropout that would \n",
    "give us stable training while keeping the training loss *higher* than the validation\n",
    "loss. This is generally a sign that you're avoiding as much overfitting as possible\n",
    "by preventing the training loss (which includes the dropouts) from never getting\n",
    "as low as the validation loss. Keeping this behavior while still lowering the\n",
    "validation loss over time is the ideal balance of variance and bias. Dropouts\n",
    "are very important for transformer models as they represet an extremely high\n",
    "dimensional set of data that can overfit very easiily. \n",
    "\n",
    "### Footnote: Bert Hidden State ###\n",
    "The 512 different outputs contain\n",
    "a full context related to each word of the 512 inputs. This\n",
    "per-input-token context is not incredibly important, except for the first\n",
    "token on BERT, which is the `[CLS]` token. This is a specifically designed token\n",
    "for classification, but the paper does mention that this may not actually be\n",
    "important or necessary. We split the difference and make a new embedding that\n",
    "concatenates the full output of the CLS token with an average of the \n",
    "remaining tokens, giving us a 2x768 input for our pre-classification layer."
   ]
  },
  {
   "cell_type": "code",
   "execution_count": 11,
   "metadata": {},
   "outputs": [
    {
     "name": "stderr",
     "output_type": "stream",
     "text": [
      "Some weights of the PyTorch model were not used when initializing the TF 2.0 model TFDistilBertModel: ['vocab_transform.bias', 'vocab_layer_norm.bias', 'vocab_transform.weight', 'vocab_projector.bias', 'vocab_layer_norm.weight']\n",
      "- This IS expected if you are initializing TFDistilBertModel from a PyTorch model trained on another task or with another architecture (e.g. initializing a TFBertForSequenceClassification model from a BertForPreTraining model).\n",
      "- This IS NOT expected if you are initializing TFDistilBertModel from a PyTorch model that you expect to be exactly identical (e.g. initializing a TFBertForSequenceClassification model from a BertForSequenceClassification model).\n",
      "All the weights of TFDistilBertModel were initialized from the PyTorch model.\n",
      "If your task is similar to the task the model of the checkpoint was trained on, you can already use TFDistilBertModel for predictions without further training.\n",
      "/usr/local/lib/python3.8/dist-packages/keras/initializers/initializers.py:120: UserWarning: The initializer TruncatedNormal is unseeded and being called multiple times, which will return identical values each time (even if the initializer is unseeded). Please update your code to provide a seed to the initializer, or avoid using the same initalizer instance more than once.\n",
      "  warnings.warn(\n"
     ]
    }
   ],
   "source": [
    "batch_size = 16\n",
    "max_epochs = 25\n",
    "model_save_path = \"ml-supervised-final\"\n",
    "\n",
    "tf.random.set_seed(random_seed)\n",
    "weight_init = tf.keras.initializers.TruncatedNormal(stddev=0.02)\n",
    "weights_loaded = False\n",
    "\n",
    "input = [\n",
    "  tf.keras.layers.Input([max_length], dtype=tf.int32, name='input_ids'),\n",
    "  tf.keras.layers.Input([max_length], dtype=tf.int32, name='attention_mask')\n",
    "]\n",
    "\n",
    "xform = TFAutoModel.from_pretrained(transformer_name)\n",
    "hidden_state = xform(input).last_hidden_state\n",
    "\n",
    "avg = tf.math.reduce_mean(hidden_state[:, 1:], axis=-2)\n",
    "avg = tf.keras.layers.LayerNormalization()(avg)\n",
    "cls = hidden_state[:, 0]\n",
    "\n",
    "x = tf.keras.layers.Concatenate()([avg, cls])\n",
    "x = tf.keras.layers.Dropout(0.30)(x)\n",
    "x = tf.keras.layers.LayerNormalization()(x)\n",
    "preclassifier = tf.keras.layers.Dense(\n",
    "  1024, kernel_initializer=weight_init, activation='gelu')\n",
    "x = preclassifier(x)\n",
    "x = tf.keras.layers.Dropout(0.50)(x)\n",
    "classifier = tf.keras.layers.Dense(\n",
    "  1, kernel_initializer=weight_init, activation='sigmoid')\n",
    "x = classifier(x)\n",
    "\n",
    "model = tf.keras.Model(inputs=input, outputs=x)\n",
    "\n",
    "earlystop = tf.keras.callbacks.EarlyStopping(\n",
    "    monitor='val_loss', patience=5, restore_best_weights=True)\n",
    "\n",
    "def train(lr, xform_trainable=None):\n",
    "  if xform_trainable is None:\n",
    "    xform.trainable = True\n",
    "    preclassifier.trainable = True\n",
    "    classifier.trainable = True\n",
    "  else:\n",
    "    xform.trainable = xform_trainable\n",
    "    preclassifier.trainable = not xform_trainable\n",
    "    classifier.trainable = not xform_trainable\n",
    "\n",
    "  if not xform_trainable:\n",
    "    lr = tf.keras.optimizers.schedules.PolynomialDecay(\n",
    "        initial_learning_rate=lr,\n",
    "        power=0.5,\n",
    "        decay_steps=int(len(y_train) / batch_size * max_epochs),\n",
    "        end_learning_rate=1e-9,\n",
    "    )\n",
    "\n",
    "  opt = tf.keras.optimizers.Adam(lr)\n",
    "\n",
    "  # compile will force the graph to recache after changing trainability\n",
    "  model.compile(optimizer=opt, loss=\"mse\", metrics=['accuracy'])\n",
    "  model.summary()\n",
    "\n",
    "  if weights_loaded:\n",
    "    print(\"skipping training, weights loaded\")\n",
    "    return dict()\n",
    "\n",
    "  return model.fit(\n",
    "    x_train, y_train, batch_size=batch_size, epochs=max_epochs,\n",
    "    validation_data=(x_test, y_test),\n",
    "    callbacks=[earlystop])"
   ]
  },
  {
   "cell_type": "code",
   "execution_count": 12,
   "metadata": {},
   "outputs": [
    {
     "name": "stdout",
     "output_type": "stream",
     "text": [
      "weights loaded!\n"
     ]
    }
   ],
   "source": [
    "try:\n",
    "  model.load_weights(model_save_path)\n",
    "  weights_loaded = True\n",
    "  print(\"weights loaded!\")\n",
    "except:\n",
    "  pass"
   ]
  },
  {
   "cell_type": "markdown",
   "metadata": {},
   "source": [
    "## Phase 1 Training ##\n",
    "\n",
    "The first training phase here trains the classifier without training the transformer\n",
    "itself. This is a great way to start training as at this phase the classifier\n",
    "is force to learn all it can from the generalized NLP output of the model without\n",
    "finetuning (and potentially overfitting) the language focus. The learning rate here\n",
    "was picked manually, but could have been search for using the Keras hyperparamter\n",
    "tuning framework. It was not worth implementing that for the purpose of this \n",
    "workbook."
   ]
  },
  {
   "cell_type": "code",
   "execution_count": 12,
   "metadata": {},
   "outputs": [
    {
     "name": "stdout",
     "output_type": "stream",
     "text": [
      "Model: \"model\"\n",
      "__________________________________________________________________________________________________\n",
      " Layer (type)                   Output Shape         Param #     Connected to                     \n",
      "==================================================================================================\n",
      " input_ids (InputLayer)         [(None, 512)]        0           []                               \n",
      "                                                                                                  \n",
      " attention_mask (InputLayer)    [(None, 512)]        0           []                               \n",
      "                                                                                                  \n",
      " tf_distil_bert_model (TFDistil  TFBaseModelOutput(l  66362880   ['input_ids[0][0]',              \n",
      " BertModel)                     ast_hidden_state=(N               'attention_mask[0][0]']         \n",
      "                                one, 512, 768),                                                   \n",
      "                                 hidden_states=None                                               \n",
      "                                , attentions=None)                                                \n",
      "                                                                                                  \n",
      " tf.__operators__.getitem (Slic  (None, 511, 768)    0           ['tf_distil_bert_model[0][0]']   \n",
      " ingOpLambda)                                                                                     \n",
      "                                                                                                  \n",
      " tf.math.reduce_mean (TFOpLambd  (None, 768)         0           ['tf.__operators__.getitem[0][0]'\n",
      " a)                                                              ]                                \n",
      "                                                                                                  \n",
      " layer_normalization (LayerNorm  (None, 768)         1536        ['tf.math.reduce_mean[0][0]']    \n",
      " alization)                                                                                       \n",
      "                                                                                                  \n",
      " tf.__operators__.getitem_1 (Sl  (None, 768)         0           ['tf_distil_bert_model[0][0]']   \n",
      " icingOpLambda)                                                                                   \n",
      "                                                                                                  \n",
      " concatenate (Concatenate)      (None, 1536)         0           ['layer_normalization[0][0]',    \n",
      "                                                                  'tf.__operators__.getitem_1[0][0\n",
      "                                                                 ]']                              \n",
      "                                                                                                  \n",
      " dropout_19 (Dropout)           (None, 1536)         0           ['concatenate[0][0]']            \n",
      "                                                                                                  \n",
      " layer_normalization_1 (LayerNo  (None, 1536)        3072        ['dropout_19[0][0]']             \n",
      " rmalization)                                                                                     \n",
      "                                                                                                  \n",
      " dense (Dense)                  (None, 1024)         1573888     ['layer_normalization_1[0][0]']  \n",
      "                                                                                                  \n",
      " dropout_20 (Dropout)           (None, 1024)         0           ['dense[0][0]']                  \n",
      "                                                                                                  \n",
      " dense_1 (Dense)                (None, 1)            1025        ['dropout_20[0][0]']             \n",
      "                                                                                                  \n",
      "==================================================================================================\n",
      "Total params: 67,942,401\n",
      "Trainable params: 1,579,521\n",
      "Non-trainable params: 66,362,880\n",
      "__________________________________________________________________________________________________\n",
      "Epoch 1/25\n"
     ]
    },
    {
     "name": "stderr",
     "output_type": "stream",
     "text": [
      "2023-08-16 01:00:18.227339: I tensorflow/compiler/xla/stream_executor/cuda/cuda_dnn.cc:424] Loaded cuDNN version 8600\n",
      "2023-08-16 01:00:18.372929: I tensorflow/compiler/xla/service/service.cc:169] XLA service 0x10926c40 initialized for platform CUDA (this does not guarantee that XLA will be used). Devices:\n",
      "2023-08-16 01:00:18.372953: I tensorflow/compiler/xla/service/service.cc:177]   StreamExecutor device (0): NVIDIA GeForce RTX 3060, Compute Capability 8.6\n",
      "2023-08-16 01:00:18.395234: I tensorflow/compiler/mlir/tensorflow/utils/dump_mlir_util.cc:269] disabling MLIR crash reproducer, set env var `MLIR_CRASH_REPRODUCER_DIRECTORY` to enable.\n",
      "2023-08-16 01:00:18.602862: I ./tensorflow/compiler/jit/device_compiler.h:180] Compiled cluster using XLA!  This line is logged at most once for the lifetime of the process.\n"
     ]
    },
    {
     "name": "stdout",
     "output_type": "stream",
     "text": [
      "63/63 [==============================] - 18s 234ms/step - loss: 0.2490 - accuracy: 0.5388 - val_loss: 0.2288 - val_accuracy: 0.6988\n",
      "Epoch 2/25\n",
      "63/63 [==============================] - 14s 223ms/step - loss: 0.2393 - accuracy: 0.5881 - val_loss: 0.2142 - val_accuracy: 0.7430\n",
      "Epoch 3/25\n",
      "63/63 [==============================] - 14s 223ms/step - loss: 0.2246 - accuracy: 0.6616 - val_loss: 0.2025 - val_accuracy: 0.7550\n",
      "Epoch 4/25\n",
      "63/63 [==============================] - 14s 226ms/step - loss: 0.2186 - accuracy: 0.6747 - val_loss: 0.1951 - val_accuracy: 0.7510\n",
      "Epoch 5/25\n",
      "63/63 [==============================] - 14s 226ms/step - loss: 0.2132 - accuracy: 0.6949 - val_loss: 0.1898 - val_accuracy: 0.7550\n",
      "Epoch 6/25\n",
      "63/63 [==============================] - 14s 224ms/step - loss: 0.2060 - accuracy: 0.6858 - val_loss: 0.1840 - val_accuracy: 0.7550\n",
      "Epoch 7/25\n",
      "63/63 [==============================] - 14s 224ms/step - loss: 0.1991 - accuracy: 0.7190 - val_loss: 0.1797 - val_accuracy: 0.7590\n",
      "Epoch 8/25\n",
      "63/63 [==============================] - 14s 223ms/step - loss: 0.1970 - accuracy: 0.7281 - val_loss: 0.1765 - val_accuracy: 0.7671\n",
      "Epoch 9/25\n",
      "63/63 [==============================] - 14s 223ms/step - loss: 0.1930 - accuracy: 0.7301 - val_loss: 0.1748 - val_accuracy: 0.7550\n",
      "Epoch 10/25\n",
      "63/63 [==============================] - 14s 223ms/step - loss: 0.1918 - accuracy: 0.7351 - val_loss: 0.1724 - val_accuracy: 0.7590\n",
      "Epoch 11/25\n",
      "63/63 [==============================] - 14s 223ms/step - loss: 0.1906 - accuracy: 0.7210 - val_loss: 0.1705 - val_accuracy: 0.7590\n",
      "Epoch 12/25\n",
      "63/63 [==============================] - 14s 223ms/step - loss: 0.1871 - accuracy: 0.7341 - val_loss: 0.1695 - val_accuracy: 0.7590\n",
      "Epoch 13/25\n",
      "63/63 [==============================] - 14s 223ms/step - loss: 0.1866 - accuracy: 0.7331 - val_loss: 0.1689 - val_accuracy: 0.7631\n",
      "Epoch 14/25\n",
      "63/63 [==============================] - 14s 223ms/step - loss: 0.1841 - accuracy: 0.7513 - val_loss: 0.1673 - val_accuracy: 0.7590\n",
      "Epoch 15/25\n",
      "63/63 [==============================] - 14s 223ms/step - loss: 0.1864 - accuracy: 0.7221 - val_loss: 0.1664 - val_accuracy: 0.7590\n",
      "Epoch 16/25\n",
      "63/63 [==============================] - 14s 223ms/step - loss: 0.1821 - accuracy: 0.7412 - val_loss: 0.1662 - val_accuracy: 0.7631\n",
      "Epoch 17/25\n",
      "63/63 [==============================] - 14s 223ms/step - loss: 0.1840 - accuracy: 0.7311 - val_loss: 0.1659 - val_accuracy: 0.7671\n",
      "Epoch 18/25\n",
      "63/63 [==============================] - 14s 223ms/step - loss: 0.1816 - accuracy: 0.7311 - val_loss: 0.1649 - val_accuracy: 0.7590\n",
      "Epoch 19/25\n",
      "63/63 [==============================] - 14s 223ms/step - loss: 0.1802 - accuracy: 0.7442 - val_loss: 0.1647 - val_accuracy: 0.7590\n",
      "Epoch 20/25\n",
      "63/63 [==============================] - 14s 222ms/step - loss: 0.1821 - accuracy: 0.7241 - val_loss: 0.1640 - val_accuracy: 0.7711\n",
      "Epoch 21/25\n",
      "63/63 [==============================] - 14s 223ms/step - loss: 0.1812 - accuracy: 0.7432 - val_loss: 0.1638 - val_accuracy: 0.7711\n",
      "Epoch 22/25\n",
      "63/63 [==============================] - 14s 223ms/step - loss: 0.1785 - accuracy: 0.7402 - val_loss: 0.1636 - val_accuracy: 0.7711\n",
      "Epoch 23/25\n",
      "63/63 [==============================] - 14s 223ms/step - loss: 0.1777 - accuracy: 0.7513 - val_loss: 0.1635 - val_accuracy: 0.7671\n",
      "Epoch 24/25\n",
      "63/63 [==============================] - 14s 223ms/step - loss: 0.1782 - accuracy: 0.7402 - val_loss: 0.1637 - val_accuracy: 0.7671\n",
      "Epoch 25/25\n",
      "63/63 [==============================] - 14s 222ms/step - loss: 0.1812 - accuracy: 0.7301 - val_loss: 0.1638 - val_accuracy: 0.7671\n"
     ]
    }
   ],
   "source": [
    "history = train(lr=1e-5, xform_trainable=False)"
   ]
  },
  {
   "cell_type": "markdown",
   "metadata": {},
   "source": [
    "## Phase 1 Results ##\n",
    "\n",
    "We can see an ideal loss curve for our training and validation sets below.\n",
    "This indicates we've reached an acceptable tradeoff between bias and variance.\n",
    "The dropout introduced random noise to only the training process, which reduces\n",
    "variance in the training, resulting in a lower loss for our validation set. Too\n",
    "much dropout would result in a higher bias, showing an inability to learn. Having our\n",
    "validation loss curve still improve every epoch while being below our training loss\n",
    "is ideal."
   ]
  },
  {
   "cell_type": "code",
   "execution_count": 13,
   "metadata": {},
   "outputs": [
    {
     "data": {
      "image/png": "[encoded data removed]",
      "text/plain": [
       "<Figure size 640x480 with 1 Axes>"
      ]
     },
     "metadata": {},
     "output_type": "display_data"
    }
   ],
   "source": [
    "def plot_loss():\n",
    "  epochs = range(1, len(history.history['loss']) + 1)\n",
    "  plt.plot(epochs, history.history['loss'], 'r', label='Training loss')\n",
    "  plt.plot(epochs, history.history['val_loss'], 'b', label='Validation loss')\n",
    "  plt.title('Training and validation loss')\n",
    "  plt.legend()\n",
    "\n",
    "  plt.show()\n",
    "\n",
    "plot_loss()"
   ]
  },
  {
   "cell_type": "markdown",
   "metadata": {},
   "source": [
    "## Phase 2 Training ##\n",
    "\n",
    "Our second training phase allows the entire model to learn. This is a much\n",
    "more time consuming operation as we're training 67M variables instead of \n",
    "just 1.6M variables. When working with transformers, this process is\n",
    "generally referred to as \"fine tuning\", which allows the transformer to build\n",
    "more rich representations of a subset of the language- in this case its \n",
    "building a more rich representation of the language around news articles.\n",
    "\n",
    "We use an even lower learing rate here as transformers can easily overfit\n",
    "during finetuning, and the classifier head should already be making\n",
    "good use of the existing NLP output."
   ]
  },
  {
   "cell_type": "code",
   "execution_count": 14,
   "metadata": {},
   "outputs": [
    {
     "name": "stdout",
     "output_type": "stream",
     "text": [
      "Model: \"model\"\n",
      "__________________________________________________________________________________________________\n",
      " Layer (type)                   Output Shape         Param #     Connected to                     \n",
      "==================================================================================================\n",
      " input_ids (InputLayer)         [(None, 512)]        0           []                               \n",
      "                                                                                                  \n",
      " attention_mask (InputLayer)    [(None, 512)]        0           []                               \n",
      "                                                                                                  \n",
      " tf_distil_bert_model (TFDistil  TFBaseModelOutput(l  66362880   ['input_ids[0][0]',              \n",
      " BertModel)                     ast_hidden_state=(N               'attention_mask[0][0]']         \n",
      "                                one, 512, 768),                                                   \n",
      "                                 hidden_states=None                                               \n",
      "                                , attentions=None)                                                \n",
      "                                                                                                  \n",
      " tf.__operators__.getitem (Slic  (None, 511, 768)    0           ['tf_distil_bert_model[0][0]']   \n",
      " ingOpLambda)                                                                                     \n",
      "                                                                                                  \n",
      " tf.math.reduce_mean (TFOpLambd  (None, 768)         0           ['tf.__operators__.getitem[0][0]'\n",
      " a)                                                              ]                                \n",
      "                                                                                                  \n",
      " layer_normalization (LayerNorm  (None, 768)         1536        ['tf.math.reduce_mean[0][0]']    \n",
      " alization)                                                                                       \n",
      "                                                                                                  \n",
      " tf.__operators__.getitem_1 (Sl  (None, 768)         0           ['tf_distil_bert_model[0][0]']   \n",
      " icingOpLambda)                                                                                   \n",
      "                                                                                                  \n",
      " concatenate (Concatenate)      (None, 1536)         0           ['layer_normalization[0][0]',    \n",
      "                                                                  'tf.__operators__.getitem_1[0][0\n",
      "                                                                 ]']                              \n",
      "                                                                                                  \n",
      " dropout_19 (Dropout)           (None, 1536)         0           ['concatenate[0][0]']            \n",
      "                                                                                                  \n",
      " layer_normalization_1 (LayerNo  (None, 1536)        3072        ['dropout_19[0][0]']             \n",
      " rmalization)                                                                                     \n",
      "                                                                                                  \n",
      " dense (Dense)                  (None, 1024)         1573888     ['layer_normalization_1[0][0]']  \n",
      "                                                                                                  \n",
      " dropout_20 (Dropout)           (None, 1024)         0           ['dense[0][0]']                  \n",
      "                                                                                                  \n",
      " dense_1 (Dense)                (None, 1)            1025        ['dropout_20[0][0]']             \n",
      "                                                                                                  \n",
      "==================================================================================================\n",
      "Total params: 67,942,401\n",
      "Trainable params: 67,942,401\n",
      "Non-trainable params: 0\n",
      "__________________________________________________________________________________________________\n",
      "Epoch 1/25\n",
      "63/63 [==============================] - 43s 537ms/step - loss: 0.1756 - accuracy: 0.7593 - val_loss: 0.1612 - val_accuracy: 0.7711\n",
      "Epoch 2/25\n",
      "63/63 [==============================] - 34s 537ms/step - loss: 0.1725 - accuracy: 0.7644 - val_loss: 0.1601 - val_accuracy: 0.7711\n",
      "Epoch 3/25\n",
      "63/63 [==============================] - 33s 530ms/step - loss: 0.1675 - accuracy: 0.7633 - val_loss: 0.1584 - val_accuracy: 0.7711\n",
      "Epoch 4/25\n",
      "63/63 [==============================] - 34s 533ms/step - loss: 0.1673 - accuracy: 0.7523 - val_loss: 0.1575 - val_accuracy: 0.7711\n",
      "Epoch 5/25\n",
      "63/63 [==============================] - 33s 532ms/step - loss: 0.1636 - accuracy: 0.7704 - val_loss: 0.1568 - val_accuracy: 0.7751\n",
      "Epoch 6/25\n",
      "63/63 [==============================] - 33s 526ms/step - loss: 0.1595 - accuracy: 0.7684 - val_loss: 0.1551 - val_accuracy: 0.7791\n",
      "Epoch 7/25\n",
      "63/63 [==============================] - 33s 526ms/step - loss: 0.1569 - accuracy: 0.7764 - val_loss: 0.1540 - val_accuracy: 0.7751\n",
      "Epoch 8/25\n",
      "63/63 [==============================] - 34s 533ms/step - loss: 0.1540 - accuracy: 0.7855 - val_loss: 0.1536 - val_accuracy: 0.7791\n",
      "Epoch 9/25\n",
      "63/63 [==============================] - 33s 527ms/step - loss: 0.1504 - accuracy: 0.7865 - val_loss: 0.1516 - val_accuracy: 0.7831\n",
      "Epoch 10/25\n",
      "63/63 [==============================] - 33s 527ms/step - loss: 0.1508 - accuracy: 0.7946 - val_loss: 0.1509 - val_accuracy: 0.7831\n",
      "Epoch 11/25\n",
      "63/63 [==============================] - 33s 526ms/step - loss: 0.1483 - accuracy: 0.7996 - val_loss: 0.1499 - val_accuracy: 0.7952\n",
      "Epoch 12/25\n",
      "63/63 [==============================] - 33s 525ms/step - loss: 0.1463 - accuracy: 0.8016 - val_loss: 0.1489 - val_accuracy: 0.7831\n",
      "Epoch 13/25\n",
      "63/63 [==============================] - 33s 526ms/step - loss: 0.1455 - accuracy: 0.7835 - val_loss: 0.1483 - val_accuracy: 0.7751\n",
      "Epoch 14/25\n",
      "63/63 [==============================] - 34s 542ms/step - loss: 0.1422 - accuracy: 0.8097 - val_loss: 0.1474 - val_accuracy: 0.7912\n",
      "Epoch 15/25\n",
      "63/63 [==============================] - 34s 544ms/step - loss: 0.1428 - accuracy: 0.8107 - val_loss: 0.1494 - val_accuracy: 0.7871\n",
      "Epoch 16/25\n",
      "63/63 [==============================] - 33s 528ms/step - loss: 0.1390 - accuracy: 0.8147 - val_loss: 0.1462 - val_accuracy: 0.7871\n",
      "Epoch 17/25\n",
      "63/63 [==============================] - 33s 527ms/step - loss: 0.1407 - accuracy: 0.8056 - val_loss: 0.1458 - val_accuracy: 0.7871\n",
      "Epoch 18/25\n",
      "63/63 [==============================] - 34s 534ms/step - loss: 0.1368 - accuracy: 0.8147 - val_loss: 0.1450 - val_accuracy: 0.7912\n",
      "Epoch 19/25\n",
      "63/63 [==============================] - 34s 539ms/step - loss: 0.1344 - accuracy: 0.8157 - val_loss: 0.1447 - val_accuracy: 0.7952\n",
      "Epoch 20/25\n",
      "63/63 [==============================] - 34s 545ms/step - loss: 0.1358 - accuracy: 0.8107 - val_loss: 0.1452 - val_accuracy: 0.7952\n",
      "Epoch 21/25\n",
      "63/63 [==============================] - 33s 527ms/step - loss: 0.1341 - accuracy: 0.8228 - val_loss: 0.1440 - val_accuracy: 0.7952\n",
      "Epoch 22/25\n",
      "63/63 [==============================] - 33s 525ms/step - loss: 0.1313 - accuracy: 0.8268 - val_loss: 0.1448 - val_accuracy: 0.7952\n",
      "Epoch 23/25\n",
      "63/63 [==============================] - 33s 526ms/step - loss: 0.1295 - accuracy: 0.8248 - val_loss: 0.1432 - val_accuracy: 0.7992\n",
      "Epoch 24/25\n",
      "63/63 [==============================] - 33s 525ms/step - loss: 0.1307 - accuracy: 0.8308 - val_loss: 0.1436 - val_accuracy: 0.7992\n",
      "Epoch 25/25\n",
      "63/63 [==============================] - 33s 526ms/step - loss: 0.1333 - accuracy: 0.8197 - val_loss: 0.1433 - val_accuracy: 0.7992\n"
     ]
    }
   ],
   "source": [
    "history = train(lr=1e-6, xform_trainable=None)"
   ]
  },
  {
   "cell_type": "markdown",
   "metadata": {},
   "source": [
    "## Phase 2 Results ##\n",
    "We can see here we still succesfully met our goal of avoiding overfitting\n",
    "because our validation loss did not start to increase again over time. But we are\n",
    "getting pretty close to that scenario, as we can see our training loss shoot\n",
    "past our validation loss. \n",
    "\n",
    "We made the most of fine tuning training, lowering our validation loss a little\n",
    "bit further, and approaching the most we can make of this dataset."
   ]
  },
  {
   "cell_type": "code",
   "execution_count": 15,
   "metadata": {},
   "outputs": [
    {
     "data": {
      "image/png": "[encoded data removed]",
      "text/plain": [
       "<Figure size 640x480 with 1 Axes>"
      ]
     },
     "metadata": {},
     "output_type": "display_data"
    }
   ],
   "source": [
    "plot_loss()\n",
    "#benchmark val_loss 0.1462"
   ]
  },
  {
   "cell_type": "markdown",
   "metadata": {},
   "source": [
    "We save our model weights here as this training process takes quite a long\n",
    "time, and we have reached acceptable hyperparameter tuning."
   ]
  },
  {
   "cell_type": "code",
   "execution_count": 16,
   "metadata": {},
   "outputs": [],
   "source": [
    "if not weights_loaded: model.save_weights(model_save_path)"
   ]
  },
  {
   "cell_type": "markdown",
   "metadata": {},
   "source": [
    "Now that we have our model and do a deeper dive into its performance.\n",
    "Let's take our validation set and produce our final scoring for our analysis."
   ]
  },
  {
   "cell_type": "code",
   "execution_count": 14,
   "metadata": {},
   "outputs": [
    {
     "name": "stdout",
     "output_type": "stream",
     "text": [
      "(243,)\n"
     ]
    }
   ],
   "source": [
    "y_score = []\n",
    "for i in range(len(x_test['input_ids'])):\n",
    "  input = {\n",
    "    \"input_ids\": x_test['input_ids'][i],\n",
    "    \"attention_mask\": x_test['attention_mask'][i],\n",
    "  }\n",
    "  pred = model(input)\n",
    "  y_score.append(pred[0, 0])\n",
    "\n",
    "y_score = np.array(y_score)\n",
    "y_pred = np.round(y_score)\n",
    "print(y_score.shape)"
   ]
  },
  {
   "cell_type": "markdown",
   "metadata": {},
   "source": [
    "### ROC Curve ###\n",
    "We plot our ROC curve here which shows that we have indeed produced a model\n",
    "capable of classifying our US Economy news articles, although not perfectly."
   ]
  },
  {
   "cell_type": "code",
   "execution_count": 13,
   "metadata": {},
   "outputs": [
    {
     "data": {
      "image/png": "[encoded data removed]",
      "text/plain": [
       "<Figure size 1200x700 with 1 Axes>"
      ]
     },
     "metadata": {},
     "output_type": "display_data"
    }
   ],
   "source": [
    "from sklearn.metrics import roc_curve, roc_auc_score\n",
    "\n",
    "fpr, tpr, _ = roc_curve(y_test, y_score)\n",
    "auc = roc_auc_score(y_test, y_score)\n",
    "auc_neat = int(auc * 1000) / 1000\n",
    "\n",
    "fig, ax = plt.subplots(nrows=1,ncols=1,figsize=(12,7))\n",
    "ax.plot(fpr, tpr, lw=2, label=f\"ROC (AUC={auc_neat})\")\n",
    "ax.plot([0, 1], [0, 1],'r--')\n",
    "ax.set_xlabel(\"False Positive Rate\", fontsize=16)\n",
    "ax.set_ylabel(\"True Positive Rate\", fontsize=16)\n",
    "ax.set_title(f\"ROC Curve\", fontsize=16)\n",
    "ax.legend(loc=\"best\")\n",
    "plt.show()"
   ]
  },
  {
   "cell_type": "markdown",
   "metadata": {},
   "source": [
    "## Accuracy Metrics ##\n",
    "We can see that we are producing decent accuracy metrics. The accuracy\n",
    "we've produced is higher than the benchmark set by the dataset publisher!\n",
    "\n",
    "Our recall is close to 90%, and simple accuracy is close to 79%! Let's look at the confusion matrix below\n",
    "to get a better sense of where this model fails."
   ]
  },
  {
   "cell_type": "code",
   "execution_count": 17,
   "metadata": {},
   "outputs": [
    {
     "name": "stdout",
     "output_type": "stream",
     "text": [
      "Precision: 0.7394366197183099, Recall: 0.8898305084745762, F-Beta: 0.8076923076923077\n",
      "simple accuracy 0.7942386831275721\n"
     ]
    }
   ],
   "source": [
    "from sklearn.metrics import precision_recall_fscore_support\n",
    "from sklearn.metrics import accuracy_score\n",
    "\n",
    "pre, rec, fbeta, _ = precision_recall_fscore_support(y_test, y_pred, average='binary')\n",
    "acc = accuracy_score(y_test, y_pred)\n",
    "\n",
    "print(f'Precision: {pre}, Recall: {rec}, F-Beta: {fbeta}')\n",
    "print(f\"simple accuracy {acc}\")"
   ]
  },
  {
   "cell_type": "markdown",
   "metadata": {},
   "source": [
    "## Confusion Matrix ##\n",
    "\n",
    "The confusion matrix below shows that model is in fact very good at\n",
    "predicting if a new article is about the US Economy. Unfortunately it\n",
    "seems to suffer from a good amount of false positives. This could be due to\n",
    "many issues, but I like to believe it's because of the fact that as a US Citizen,\n",
    "the state of our economy bleeds into almost everything we talk about nowadays,\n",
    "and is probably inescapable in our news."
   ]
  },
  {
   "cell_type": "code",
   "execution_count": 29,
   "metadata": {},
   "outputs": [
    {
     "data": {
      "image/png": "[encoded data removed]",
      "text/plain": [
       "<Figure size 640x480 with 2 Axes>"
      ]
     },
     "metadata": {},
     "output_type": "display_data"
    }
   ],
   "source": [
    "from sklearn.metrics import confusion_matrix, ConfusionMatrixDisplay\n",
    "cm = confusion_matrix(y_test, y_pred)\n",
    "\n",
    "disp = ConfusionMatrixDisplay(confusion_matrix=cm, display_labels=[0,1])\n",
    "disp.plot()\n",
    "plt.show()"
   ]
  },
  {
   "cell_type": "markdown",
   "metadata": {},
   "source": [
    "## Conclusion ##\n",
    "\n",
    "We sucesfully used the dataset from Kaggle to train a bunch of different\n",
    "types of models to classify news articles as to whether or not they are about\n",
    "the US Economy. All models met or exceeded the benchmarks produced by the\n",
    "dataset publisher.\n",
    "\n",
    "We did a dive into different ways to handle NLP tasks with supervised learning.\n",
    "We started out by exploring tokenization and vectorization techniques that\n",
    "can represent text in a high dimensional space suitable for use with basic supervised\n",
    "learning teqchniques, and we evaluated the models.\n",
    "\n",
    "We then sucesfully trained a transformer-based\n",
    "classification model to identity news articles about the US Economy. We've \n",
    "showcased some of the complications that arise when using transformers,\n",
    "but also how effective they can be at NLP tasks. Their ability to produce\n",
    "a rich high-dimensional embedding of the input tasks opens up many opportunities.\n",
    "\n",
    "We then dived into an analysis of the performance of thes models, and produced an\n",
    "interpretation of our results.\n",
    "\n",
    "The transformer model did come on top, likely due to its dense and rich representation\n",
    "of text content. Unlike the traditional models we used above, transformers have\n",
    "an incredibly ability to understand the context that text is in, and when using a  \n",
    "pretrained transformer, it has the ability to associate textual meaning even\n",
    "when it encounters words that weren't in the training set, which is likely to produce\n",
    "a more robust model when used in the wild.\n"
   ]
  }
 ],
 "metadata": {
  "kernelspec": {
   "display_name": "Python 3 (ipykernel)",
   "language": "python",
   "name": "python3"
  },
  "language_info": {
   "codemirror_mode": {
    "name": "ipython",
    "version": 3
   },
   "file_extension": ".py",
   "mimetype": "text/x-python",
   "name": "python",
   "nbconvert_exporter": "python",
   "pygments_lexer": "ipython3",
   "version": "3.8.10"
  },
  "orig_nbformat": 4
 },
 "nbformat": 4,
 "nbformat_minor": 2
}
